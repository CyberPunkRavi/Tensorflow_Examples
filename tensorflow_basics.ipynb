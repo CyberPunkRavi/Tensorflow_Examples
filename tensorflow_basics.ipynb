{
 "cells": [
  {
   "cell_type": "code",
   "execution_count": 6,
   "metadata": {},
   "outputs": [],
   "source": [
    "import tensorflow as tf\n",
    "import numpy as np"
   ]
  },
  {
   "cell_type": "markdown",
   "metadata": {},
   "source": [
    "### Tensors\n",
    "\n",
    " Tensors are multidimensional arrays"
   ]
  },
  {
   "cell_type": "code",
   "execution_count": 8,
   "metadata": {},
   "outputs": [
    {
     "data": {
      "text/plain": [
       "<tf.Tensor: shape=(2, 3), dtype=int32, numpy=\n",
       "array([[1, 2, 4],\n",
       "       [3, 5, 6]])>"
      ]
     },
     "execution_count": 8,
     "metadata": {},
     "output_type": "execute_result"
    }
   ],
   "source": [
    "x = tf.constant([[1, 2, 4],\n",
    "                 [3, 5, 6]])\n",
    "\n",
    "x"
   ]
  },
  {
   "cell_type": "code",
   "execution_count": 9,
   "metadata": {},
   "outputs": [
    {
     "name": "stdout",
     "output_type": "stream",
     "text": [
      "Tensor x \n",
      " [[1 2 4]\n",
      " [3 5 6]]\n",
      "Tensor x shape :   (2, 3)\n",
      "Tensor x dtype :   <dtype: 'int32'>\n"
     ]
    }
   ],
   "source": [
    "print(f\"Tensor x \\n {x}\")\n",
    "print(f\"Tensor x shape :   {x.shape}\")\n",
    "print(f\"Tensor x dtype :   {x.dtype}\")"
   ]
  },
  {
   "cell_type": "code",
   "execution_count": 10,
   "metadata": {},
   "outputs": [
    {
     "data": {
      "text/plain": [
       "<tf.Tensor: shape=(2, 3), dtype=int32, numpy=\n",
       "array([[1, 0, 1],\n",
       "       [1, 1, 1]])>"
      ]
     },
     "execution_count": 10,
     "metadata": {},
     "output_type": "execute_result"
    }
   ],
   "source": [
    "y = tf.convert_to_tensor(np.array([[1, 0, 1],[1, 1, 1]]))\n",
    "y"
   ]
  },
  {
   "cell_type": "code",
   "execution_count": 19,
   "metadata": {},
   "outputs": [
    {
     "name": "stdout",
     "output_type": "stream",
     "text": [
      "Transpose of x \n",
      " [[21 37]\n",
      " [37 70]]\n",
      "Concat x & y \n",
      " [[1 2 4]\n",
      " [3 5 6]\n",
      " [1 0 1]\n",
      " [1 1 1]]\n",
      "Reduce sun 6\n"
     ]
    }
   ],
   "source": [
    "### Tensor operations\n",
    "\n",
    "print(f\"Transpose of x \\n {x @ tf.transpose(x)}\")\n",
    "\n",
    "print(f\"Concat x & y \\n {tf.concat([x,y], axis=0)}\")\n",
    "\n",
    "print(f\"Reduce sum {tf.reduce_sum([1,2,3])}\")"
   ]
  }
 ],
 "metadata": {
  "kernelspec": {
   "display_name": "tensorflow",
   "language": "python",
   "name": "python3"
  },
  "language_info": {
   "codemirror_mode": {
    "name": "ipython",
    "version": 3
   },
   "file_extension": ".py",
   "mimetype": "text/x-python",
   "name": "python",
   "nbconvert_exporter": "python",
   "pygments_lexer": "ipython3",
   "version": "3.10.0"
  }
 },
 "nbformat": 4,
 "nbformat_minor": 2
}
