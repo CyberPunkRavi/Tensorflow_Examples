{
 "cells": [
  {
   "cell_type": "code",
   "execution_count": 59,
   "metadata": {},
   "outputs": [],
   "source": [
    "import tensorflow as tf\n",
    "import numpy as np\n",
    "import timeit"
   ]
  },
  {
   "cell_type": "markdown",
   "metadata": {},
   "source": [
    "### Tensors\n",
    "\n",
    " Tensors are multidimensional arrays"
   ]
  },
  {
   "cell_type": "code",
   "execution_count": 28,
   "metadata": {},
   "outputs": [
    {
     "data": {
      "text/plain": [
       "<tf.Tensor: shape=(2, 3), dtype=int32, numpy=\n",
       "array([[1, 2, 4],\n",
       "       [3, 5, 6]])>"
      ]
     },
     "execution_count": 28,
     "metadata": {},
     "output_type": "execute_result"
    }
   ],
   "source": [
    "x = tf.constant([[1, 2, 4],\n",
    "                 [3, 5, 6]])\n",
    "\n",
    "x"
   ]
  },
  {
   "cell_type": "code",
   "execution_count": 29,
   "metadata": {},
   "outputs": [
    {
     "name": "stdout",
     "output_type": "stream",
     "text": [
      "Tensor x \n",
      " [[1 2 4]\n",
      " [3 5 6]]\n",
      "Tensor x shape :   (2, 3)\n",
      "Tensor x dtype :   <dtype: 'int32'>\n"
     ]
    }
   ],
   "source": [
    "print(f\"Tensor x \\n {x}\")\n",
    "print(f\"Tensor x shape :   {x.shape}\")\n",
    "print(f\"Tensor x dtype :   {x.dtype}\")"
   ]
  },
  {
   "cell_type": "code",
   "execution_count": 30,
   "metadata": {},
   "outputs": [
    {
     "data": {
      "text/plain": [
       "<tf.Tensor: shape=(2, 3), dtype=int32, numpy=\n",
       "array([[1, 0, 1],\n",
       "       [1, 1, 1]])>"
      ]
     },
     "execution_count": 30,
     "metadata": {},
     "output_type": "execute_result"
    }
   ],
   "source": [
    "y = tf.convert_to_tensor(np.array([[1, 0, 1],[1, 1, 1]]))\n",
    "y"
   ]
  },
  {
   "cell_type": "code",
   "execution_count": 31,
   "metadata": {},
   "outputs": [
    {
     "name": "stdout",
     "output_type": "stream",
     "text": [
      "Transpose of x \n",
      " [[21 37]\n",
      " [37 70]]\n",
      "Concat x & y \n",
      " [[1 2 4]\n",
      " [3 5 6]\n",
      " [1 0 1]\n",
      " [1 1 1]]\n",
      "Reduce sum 6\n"
     ]
    }
   ],
   "source": [
    "### Tensor operations\n",
    "\n",
    "print(f\"Transpose of x \\n {x @ tf.transpose(x)}\")\n",
    "\n",
    "print(f\"Concat x & y \\n {tf.concat([x,y], axis=0)}\")\n",
    "\n",
    "print(f\"Reduce sum {tf.reduce_sum([1,2,3])}\")"
   ]
  },
  {
   "cell_type": "markdown",
   "metadata": {},
   "source": [
    "### Variables\n",
    "\n",
    "Normal tf.Tensor objects are immutable. To store model weights (or other mutable state) in TensorFlow use a `tf.Variable`."
   ]
  },
  {
   "cell_type": "code",
   "execution_count": 37,
   "metadata": {},
   "outputs": [
    {
     "data": {
      "text/plain": [
       "<tf.Variable 'Variable:0' shape=(2, 3) dtype=int32, numpy=\n",
       "array([[1, 2, 4],\n",
       "       [3, 5, 6]])>"
      ]
     },
     "execution_count": 37,
     "metadata": {},
     "output_type": "execute_result"
    }
   ],
   "source": [
    "x_var = tf.Variable(x)\n",
    "x_var"
   ]
  },
  {
   "cell_type": "code",
   "execution_count": 33,
   "metadata": {},
   "outputs": [
    {
     "data": {
      "text/plain": [
       "<tf.Variable 'Variable:0' shape=(2, 3) dtype=int32, numpy=\n",
       "array([[2, 2, 5],\n",
       "       [4, 6, 7]])>"
      ]
     },
     "execution_count": 33,
     "metadata": {},
     "output_type": "execute_result"
    }
   ],
   "source": [
    "### Adding values to varible within the same ref\n",
    "x_var.assign_add(y)\n",
    "x_var"
   ]
  },
  {
   "cell_type": "code",
   "execution_count": 38,
   "metadata": {},
   "outputs": [
    {
     "data": {
      "text/plain": [
       "<tf.Variable 'Variable:0' shape=(2, 3) dtype=int32, numpy=\n",
       "array([[1, 2, 4],\n",
       "       [3, 5, 6]])>"
      ]
     },
     "execution_count": 38,
     "metadata": {},
     "output_type": "execute_result"
    }
   ],
   "source": [
    "x_var.assign([[1, 2, 4],\n",
    "       [3, 5, 6]])\n",
    "x_var"
   ]
  },
  {
   "cell_type": "code",
   "execution_count": 39,
   "metadata": {},
   "outputs": [
    {
     "data": {
      "text/plain": [
       "<tf.Tensor: shape=(3, 2), dtype=int32, numpy=\n",
       "array([[1, 2],\n",
       "       [4, 3],\n",
       "       [5, 6]])>"
      ]
     },
     "execution_count": 39,
     "metadata": {},
     "output_type": "execute_result"
    }
   ],
   "source": [
    "#Most tensor operations work on variables as expected, although variables cannot be reshaped. \n",
    "## its creating tensor not varible\n",
    "\n",
    "x_var_re = tf.reshape(x_var, [3,2])\n",
    "x_var_re"
   ]
  },
  {
   "cell_type": "markdown",
   "metadata": {},
   "source": [
    "### Automatic differentiation\n",
    "Implementing automatic differentiation (autodiff), which uses calculus to compute gradients. Typically you'll use this to calculate the gradient of a model's error or loss with respect to its weights.\n",
    "\n",
    "Gradient tapes\n",
    "TensorFlow provides the `tf.GradientTape` API for automatic differentiation;\n",
    "Once you've recorded some operations, use `GradientTape.gradient`(target, sources) to calculate the gradient of some target (often a loss) relative to some source (often the model's variables):"
   ]
  },
  {
   "cell_type": "code",
   "execution_count": 4,
   "metadata": {},
   "outputs": [
    {
     "data": {
      "text/plain": [
       "<tf.Tensor: shape=(), dtype=float32, numpy=13.0>"
      ]
     },
     "execution_count": 4,
     "metadata": {},
     "output_type": "execute_result"
    }
   ],
   "source": [
    "x = tf.Variable(2.0)\n",
    "\n",
    "def fun(x):\n",
    "    y = x**2+2*x+5\n",
    "    \n",
    "    return y\n",
    "\n",
    "fun(x)"
   ]
  },
  {
   "cell_type": "code",
   "execution_count": null,
   "metadata": {},
   "outputs": [
    {
     "data": {
      "text/plain": [
       "<tf.Tensor: shape=(), dtype=float32, numpy=6.0>"
      ]
     },
     "execution_count": 5,
     "metadata": {},
     "output_type": "execute_result"
    }
   ],
   "source": [
    "with tf.GradientTape() as tape:\n",
    "    y = fun(x)\n",
    "\n",
    "g_x = tape.gradient(y, x)  # g(x) = dy/dx  = 2x+2\n",
    "g_x"
   ]
  },
  {
   "cell_type": "code",
   "execution_count": 6,
   "metadata": {},
   "outputs": [],
   "source": [
    "## Gradient with two varibles\n",
    "\n",
    "w = tf.Variable(tf.random.normal((3,2)), name='w')\n",
    "b = tf.Variable(tf.zeros(2), name='b')\n",
    "\n",
    "x=[[1., 2., 3.]]"
   ]
  },
  {
   "cell_type": "code",
   "execution_count": 7,
   "metadata": {},
   "outputs": [],
   "source": [
    "with tf.GradientTape() as tape:\n",
    "    y = x @ w +b\n",
    "    loss = tf.reduce_mean(y**2)"
   ]
  },
  {
   "cell_type": "code",
   "execution_count": 8,
   "metadata": {},
   "outputs": [],
   "source": [
    "[dl_dw, dl_db] = tape.gradient(loss, [w, b])"
   ]
  },
  {
   "cell_type": "code",
   "execution_count": 11,
   "metadata": {},
   "outputs": [
    {
     "data": {
      "text/plain": [
       "(<tf.Variable 'w:0' shape=(3, 2) dtype=float32, numpy=\n",
       " array([[ 0.49473074, -2.23581   ],\n",
       "        [-1.1306745 ,  0.03210247],\n",
       "        [-1.1583433 , -1.6996672 ]], dtype=float32)>,\n",
       " <tf.Variable 'b:0' shape=(2,) dtype=float32, numpy=array([0., 0.], dtype=float32)>)"
      ]
     },
     "execution_count": 11,
     "metadata": {},
     "output_type": "execute_result"
    }
   ],
   "source": [
    "w, b"
   ]
  },
  {
   "cell_type": "code",
   "execution_count": 10,
   "metadata": {},
   "outputs": [
    {
     "data": {
      "text/plain": [
       "(<tf.Tensor: shape=(3, 2), dtype=float32, numpy=\n",
       " array([[ -5.241648,  -7.270607],\n",
       "        [-10.483296, -14.541214],\n",
       "        [-15.724945, -21.811821]], dtype=float32)>,\n",
       " <tf.Tensor: shape=(2,), dtype=float32, numpy=array([-5.241648, -7.270607], dtype=float32)>)"
      ]
     },
     "execution_count": 10,
     "metadata": {},
     "output_type": "execute_result"
    }
   ],
   "source": [
    "dl_dw, dl_db"
   ]
  },
  {
   "cell_type": "code",
   "execution_count": null,
   "metadata": {},
   "outputs": [
    {
     "data": {
      "text/plain": [
       "(<tf.Tensor: shape=(1, 2), dtype=float32, numpy=array([[0.       , 3.0652003]], dtype=float32)>,\n",
       " <Dense name=dense_1, built=True>)"
      ]
     },
     "execution_count": 13,
     "metadata": {},
     "output_type": "execute_result"
    }
   ],
   "source": [
    "###Gradients with respect to a model\n",
    "\n",
    "layer = tf.keras.layers.Dense(2, activation='relu')\n",
    "x = tf.constant([[1., 2., 3.]])\n",
    "\n",
    "y = layer(x)\n",
    "\n",
    "y,layer    "
   ]
  },
  {
   "cell_type": "code",
   "execution_count": null,
   "metadata": {},
   "outputs": [
    {
     "data": {
      "text/plain": [
       "[<Variable path=dense_1/kernel, shape=(3, 2), dtype=float32, value=[[-0.32881343  0.5527402 ]\n",
       "  [-0.14014363 -0.3658083 ]\n",
       "  [-0.9868201   1.0813589 ]]>,\n",
       " <Variable path=dense_1/bias, shape=(2,), dtype=float32, value=[0. 0.]>]"
      ]
     },
     "execution_count": 30,
     "metadata": {},
     "output_type": "execute_result"
    }
   ],
   "source": [
    "# Trainable parameters (weights & baises)\n",
    "layer.trainable_variables"
   ]
  },
  {
   "cell_type": "code",
   "execution_count": 27,
   "metadata": {},
   "outputs": [],
   "source": [
    "with tf.GradientTape() as tape:\n",
    "  # Forward pass\n",
    "  y = layer(x)\n",
    "  loss = tf.reduce_mean(y**2)\n",
    "\n",
    "grad = tape.gradient(loss, layer.trainable_variables)"
   ]
  },
  {
   "cell_type": "code",
   "execution_count": 28,
   "metadata": {},
   "outputs": [
    {
     "data": {
      "text/plain": [
       "(<tf.Tensor: shape=(), dtype=float32, numpy=4.697726726531982>,\n",
       " 4.697726439560045)"
      ]
     },
     "execution_count": 28,
     "metadata": {},
     "output_type": "execute_result"
    }
   ],
   "source": [
    "loss, np.mean(np.square([0.       , 3.0652003]))"
   ]
  },
  {
   "cell_type": "code",
   "execution_count": 29,
   "metadata": {},
   "outputs": [
    {
     "data": {
      "text/plain": [
       "[<tf.Tensor: shape=(3, 2), dtype=float32, numpy=\n",
       " array([[0.       , 3.0652003],\n",
       "        [0.       , 6.1304007],\n",
       "        [0.       , 9.1956005]], dtype=float32)>,\n",
       " <tf.Tensor: shape=(2,), dtype=float32, numpy=array([0.       , 3.0652003], dtype=float32)>]"
      ]
     },
     "execution_count": 29,
     "metadata": {},
     "output_type": "execute_result"
    }
   ],
   "source": [
    "grad"
   ]
  },
  {
   "cell_type": "markdown",
   "metadata": {},
   "source": [
    "### Graphs and tf.function\n",
    "\n",
    "TensorFlow originally used **static computation graphs** (TF 1.x), where the computation is described first, and then run.\n",
    "In TensorFlow 2.x, the default mode is **eager execution**, which is more intuitive (like PyTorch) but slightly less performant. To get the performance of static graphs, you use:`@tf.function` This decorator converts Python functions into TensorFlow computation graphs."
   ]
  },
  {
   "cell_type": "code",
   "execution_count": 45,
   "metadata": {},
   "outputs": [],
   "source": [
    "# Coverting python fun to Tensorflow graph\n",
    "\n",
    "@tf.function\n",
    "def get_MSE(y_true, y_pred):\n",
    "    sq_diff = tf.pow((y_true-y_pred),2)\n",
    "    print(\"Calculating MSE\")\n",
    "    return tf.reduce_mean(sq_diff)\n"
   ]
  },
  {
   "cell_type": "code",
   "execution_count": 46,
   "metadata": {},
   "outputs": [
    {
     "name": "stdout",
     "output_type": "stream",
     "text": [
      "tf.Tensor([8.35292   9.274664  5.5500736 5.202558  6.934885 ], shape=(5,), dtype=float32)\n",
      "tf.Tensor([7.318878  2.5516403 9.539125  5.304489  5.4756594], shape=(5,), dtype=float32)\n"
     ]
    }
   ],
   "source": [
    "y_true = tf.random.uniform([5],maxval=10)\n",
    "y_pred = tf.random.uniform([5],maxval=10)\n",
    "\n",
    "print(y_true)\n",
    "print(y_pred)"
   ]
  },
  {
   "cell_type": "code",
   "execution_count": null,
   "metadata": {},
   "outputs": [
    {
     "name": "stdout",
     "output_type": "stream",
     "text": [
      "Calculating MSE\n"
     ]
    }
   ],
   "source": [
    "##However, tf.function can behave differently under graph and eager execution. \n",
    "# The Python print function is one example of how these two modes differ. \n",
    "# Tracing captures the TensorFlow operations into a graph, and print is not captured in the graph. That graph is then executed for all three calls without ever running the Python code again.\n",
    "\n",
    "error = get_MSE(y_true, y_pred) \n",
    "error = get_MSE(y_true, y_pred)# It won't print beacauce earlier alredy function traced. When function traced then only prints\n",
    "error = get_MSE(y_true, y_pred)\n"
   ]
  },
  {
   "cell_type": "code",
   "execution_count": 49,
   "metadata": {},
   "outputs": [
    {
     "name": "stdout",
     "output_type": "stream",
     "text": [
      "Calculating MSE\n"
     ]
    },
    {
     "data": {
      "text/plain": [
       "<tf.Tensor: shape=(), dtype=float32, numpy=12.864109992980957>"
      ]
     },
     "execution_count": 49,
     "metadata": {},
     "output_type": "execute_result"
    }
   ],
   "source": [
    "tf.config.run_functions_eagerly(True)\n",
    "get_MSE(y_true, y_pred)"
   ]
  },
  {
   "cell_type": "code",
   "execution_count": 50,
   "metadata": {},
   "outputs": [],
   "source": [
    "# Don't forget to set it back when you are done.\n",
    "tf.config.run_functions_eagerly(False)"
   ]
  },
  {
   "cell_type": "code",
   "execution_count": 54,
   "metadata": {},
   "outputs": [],
   "source": [
    "## Checking Speed with without tf.function\n",
    "\n",
    "def matrix_power(x, y):\n",
    "    result = tf.eye(len(x), dtype=tf.dtypes.int32)\n",
    "\n",
    "    for _ in range(y):\n",
    "        result = tf.matmul(x, result)\n",
    "    \n",
    "    return result"
   ]
  },
  {
   "cell_type": "code",
   "execution_count": 55,
   "metadata": {},
   "outputs": [
    {
     "data": {
      "text/plain": [
       "<tf.Tensor: shape=(10, 10), dtype=int32, numpy=\n",
       "array([[0, 1, 1, 1, 0, 1, 1, 0, 0, 1],\n",
       "       [0, 0, 1, 1, 1, 1, 0, 1, 1, 0],\n",
       "       [1, 1, 1, 0, 0, 0, 1, 0, 0, 0],\n",
       "       [0, 1, 1, 0, 0, 1, 0, 1, 0, 0],\n",
       "       [1, 0, 1, 0, 0, 0, 0, 1, 0, 1],\n",
       "       [1, 1, 1, 0, 1, 1, 0, 0, 0, 1],\n",
       "       [0, 0, 1, 0, 0, 1, 1, 1, 1, 0],\n",
       "       [1, 1, 1, 1, 0, 0, 1, 0, 0, 0],\n",
       "       [1, 0, 0, 0, 0, 0, 1, 0, 1, 1],\n",
       "       [1, 0, 0, 0, 1, 1, 1, 0, 1, 1]])>"
      ]
     },
     "execution_count": 55,
     "metadata": {},
     "output_type": "execute_result"
    }
   ],
   "source": [
    "x = tf.random.uniform([10, 10], maxval=2, dtype=tf.dtypes.int32)\n",
    "x"
   ]
  },
  {
   "cell_type": "code",
   "execution_count": null,
   "metadata": {},
   "outputs": [
    {
     "name": "stdout",
     "output_type": "stream",
     "text": [
      "Eager execution: 3.413141999975778 seconds\n"
     ]
    }
   ],
   "source": [
    "#without tf function\n",
    "# %time\n",
    "# matrix_power(x, 1000)\n",
    "\n",
    "print(\"Eager execution:\", timeit.timeit(lambda: matrix_power(x, 100), number=1000), \"seconds\")"
   ]
  },
  {
   "cell_type": "code",
   "execution_count": 62,
   "metadata": {},
   "outputs": [
    {
     "name": "stdout",
     "output_type": "stream",
     "text": [
      "Graph execution: 0.8467953000217676 seconds\n"
     ]
    }
   ],
   "source": [
    "matrix_power_as_graph = tf.function(matrix_power)\n",
    "print(\"Graph execution:\", timeit.timeit(lambda: matrix_power_as_graph(x, 100), number=1000), \"seconds\")"
   ]
  }
 ],
 "metadata": {
  "kernelspec": {
   "display_name": "tensorflow",
   "language": "python",
   "name": "python3"
  },
  "language_info": {
   "codemirror_mode": {
    "name": "ipython",
    "version": 3
   },
   "file_extension": ".py",
   "mimetype": "text/x-python",
   "name": "python",
   "nbconvert_exporter": "python",
   "pygments_lexer": "ipython3",
   "version": "3.10.0"
  }
 },
 "nbformat": 4,
 "nbformat_minor": 2
}
