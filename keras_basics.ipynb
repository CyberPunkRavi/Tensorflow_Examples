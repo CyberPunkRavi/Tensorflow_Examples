{
 "cells": [
  {
   "cell_type": "code",
   "execution_count": 2,
   "id": "586a0664-76fc-49e5-be4a-107826bd5b76",
   "metadata": {},
   "outputs": [
    {
     "data": {
      "text/plain": [
       "'Keras is the high-level API of the TensorFlow platform'"
      ]
     },
     "execution_count": 2,
     "metadata": {},
     "output_type": "execute_result"
    }
   ],
   "source": [
    "\"\"\"Keras is the high-level API of the TensorFlow platform\"\"\""
   ]
  },
  {
   "cell_type": "code",
   "execution_count": null,
   "id": "ab167874-3c8c-4d6a-adc9-c94e279e6e92",
   "metadata": {},
   "outputs": [],
   "source": []
  }
 ],
 "metadata": {
  "kernelspec": {
   "display_name": "Python 3 (ipykernel)",
   "language": "python",
   "name": "python3"
  },
  "language_info": {
   "codemirror_mode": {
    "name": "ipython",
    "version": 3
   },
   "file_extension": ".py",
   "mimetype": "text/x-python",
   "name": "python",
   "nbconvert_exporter": "python",
   "pygments_lexer": "ipython3",
   "version": "3.9.6"
  }
 },
 "nbformat": 4,
 "nbformat_minor": 5
}
